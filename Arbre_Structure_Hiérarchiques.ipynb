{
 "cells": [
  {
   "cell_type": "markdown",
   "id": "9af63f45",
   "metadata": {},
   "source": [
    "## Quadtree Image en Noir et Blanc"
   ]
  },
  {
   "cell_type": "code",
   "execution_count": 1,
   "id": "feb1a3a5",
   "metadata": {},
   "outputs": [],
   "source": [
    "import numpy as np\n",
    "import pandas as pd\n",
    "import random\n",
    "from matplotlib import pyplot as plt\n",
    "from sklearn import datasets\n",
    "import graphviz\n",
    "import cv2 as cv"
   ]
  },
  {
   "cell_type": "markdown",
   "id": "4a72420b",
   "metadata": {},
   "source": [
    "## Image en niveau de gris"
   ]
  },
  {
   "cell_type": "code",
   "execution_count": 3,
   "id": "28a68f24",
   "metadata": {},
   "outputs": [],
   "source": [
    "img=cv.imread(\"C:/Users/pypar/Documents/M1 MMAA/Semestre 8/ProjetDeRecherche/Image/Foot.png\",0)\n",
    "cv.imshow(\"Image Par defaut\",img)\n",
    "k=cv.waitKey(0)"
   ]
  },
  {
   "cell_type": "markdown",
   "id": "0d655ffb",
   "metadata": {},
   "source": [
    "## Image en noir et blanc"
   ]
  },
  {
   "cell_type": "code",
   "execution_count": 13,
   "id": "6401a415",
   "metadata": {},
   "outputs": [],
   "source": [
    "img=cv.imread(\"C:/Users/pypar/Documents/M1 MMAA/Semestre 8/ProjetDeRecherche/Image/Foot.png\",0)\n",
    "h,l=img.shape\n",
    "for i in range(h):\n",
    "    for j in range (l):\n",
    "        if img[i][j]>128:\n",
    "            img[i][j]=255\n",
    "        else:\n",
    "            img[i][j]=0\n",
    "cv.imshow(\"Image Par defaut\",img)\n",
    "k=cv.waitKey(0)"
   ]
  },
  {
   "cell_type": "markdown",
   "id": "9ff3d40e",
   "metadata": {},
   "source": [
    "## Partition de l'image en 4"
   ]
  },
  {
   "cell_type": "code",
   "execution_count": 21,
   "id": "24421117",
   "metadata": {},
   "outputs": [],
   "source": [
    "def split_image(img):\n",
    "    h,l=img.shape\n",
    "    img_0=img[:h//2,:l//2]\n",
    "    img_1=img[:h//2,l//2:]\n",
    "    img_2=img[h//2:,:l//2]\n",
    "    img_3=img[h//2:,l//2:]\n",
    "    return img_0.shape,img_1.shape,img_2.shape,img_3.shape"
   ]
  },
  {
   "cell_type": "code",
   "execution_count": null,
   "id": "41dda69e",
   "metadata": {},
   "outputs": [],
   "source": [
    "def Homogeneite(img):\n",
    "    if (np.mean(img)==255 or np.mean(img)==0):\n"
   ]
  },
  {
   "cell_type": "code",
   "execution_count": 19,
   "id": "446dbfbc",
   "metadata": {},
   "outputs": [
    {
     "data": {
      "text/plain": [
       "True"
      ]
     },
     "execution_count": 19,
     "metadata": {},
     "output_type": "execute_result"
    }
   ],
   "source": [
    "np.mean(img_1)==255"
   ]
  },
  {
   "cell_type": "code",
   "execution_count": 9,
   "id": "a6592d41",
   "metadata": {},
   "outputs": [],
   "source": [
    "test=np.random.randint(255,size=(5,5))"
   ]
  },
  {
   "cell_type": "code",
   "execution_count": 10,
   "id": "89759ef9",
   "metadata": {},
   "outputs": [
    {
     "data": {
      "text/plain": [
       "array([[ 61, 117,   8],\n",
       "       [103, 112,  30]])"
      ]
     },
     "execution_count": 10,
     "metadata": {},
     "output_type": "execute_result"
    }
   ],
   "source": [
    "test[:2,2:]"
   ]
  },
  {
   "cell_type": "code",
   "execution_count": null,
   "id": "4e0c9365",
   "metadata": {},
   "outputs": [],
   "source": []
  }
 ],
 "metadata": {
  "kernelspec": {
   "display_name": "Python 3 (ipykernel)",
   "language": "python",
   "name": "python3"
  },
  "language_info": {
   "codemirror_mode": {
    "name": "ipython",
    "version": 3
   },
   "file_extension": ".py",
   "mimetype": "text/x-python",
   "name": "python",
   "nbconvert_exporter": "python",
   "pygments_lexer": "ipython3",
   "version": "3.9.12"
  }
 },
 "nbformat": 4,
 "nbformat_minor": 5
}
