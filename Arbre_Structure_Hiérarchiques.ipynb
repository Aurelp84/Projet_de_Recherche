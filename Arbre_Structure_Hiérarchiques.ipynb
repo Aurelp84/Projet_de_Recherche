{
 "cells": [
  {
   "cell_type": "markdown",
   "id": "108b5f78",
   "metadata": {},
   "source": [
    "## Quadtree Image en Noir et Blanc"
   ]
  },
  {
   "cell_type": "code",
   "execution_count": 1,
   "id": "85e1e3b1",
   "metadata": {},
   "outputs": [],
   "source": [
    "import numpy as np\n",
    "import pandas as pd\n",
    "import random\n",
    "from matplotlib import pyplot as plt\n",
    "from sklearn import datasets\n",
    "import graphviz\n",
    "import cv2 as cv"
   ]
  },
  {
   "cell_type": "markdown",
   "id": "15724e1b",
   "metadata": {},
   "source": [
    "## Image en niveau de gris"
   ]
  },
  {
   "cell_type": "code",
   "execution_count": 2,
   "id": "860f1280",
   "metadata": {},
   "outputs": [],
   "source": [
    "img_gris=cv.imread(\"C:/Users/pypar/Documents/M1 MMAA/Semestre 8/ProjetDeRecherche/Image/Foot.png\",0)\n",
    "cv.imshow(\"Image Par defaut\",img_gris)\n",
    "k=cv.waitKey(0)"
   ]
  },
  {
   "cell_type": "markdown",
   "id": "e6287875",
   "metadata": {},
   "source": [
    "## Image en couleur"
   ]
  },
  {
   "cell_type": "code",
   "execution_count": 3,
   "id": "775a854b",
   "metadata": {},
   "outputs": [],
   "source": [
    "img_color=cv.imread(\"C:/Users/pypar/Documents/M1 MMAA/Semestre 8/ProjetDeRecherche/Image/Foot.png\",1)"
   ]
  },
  {
   "cell_type": "markdown",
   "id": "8ba98bce",
   "metadata": {},
   "source": [
    "## Image en noir et blanc"
   ]
  },
  {
   "cell_type": "code",
   "execution_count": 4,
   "id": "d0b03f42",
   "metadata": {},
   "outputs": [
    {
     "data": {
      "text/plain": [
       "'img=cv.imread(\"C:/Users/pypar/Documents/M1 MMAA/Semestre 8/ProjetDeRecherche/Image/Foot.png\",0)\\nh,l=img.shape\\nfor i in range(h):\\n    for j in range (l):\\n        if img[i][j]>128:\\n            img[i][j]=255\\n        else:\\n            img[i][j]=0\\ncv.imshow(\"Image Par defaut\",img)\\nk=cv.waitKey(0)\\n'"
      ]
     },
     "execution_count": 4,
     "metadata": {},
     "output_type": "execute_result"
    }
   ],
   "source": [
    "\"\"\"img=cv.imread(\"C:/Users/pypar/Documents/M1 MMAA/Semestre 8/ProjetDeRecherche/Image/Foot.png\",0)\n",
    "h,l=img.shape\n",
    "for i in range(h):\n",
    "    for j in range (l):\n",
    "        if img[i][j]>128:\n",
    "            img[i][j]=255\n",
    "        else:\n",
    "            img[i][j]=0\n",
    "cv.imshow(\"Image Par defaut\",img)\n",
    "k=cv.waitKey(0)\n",
    "\"\"\""
   ]
  },
  {
   "cell_type": "code",
   "execution_count": 5,
   "id": "0898d821",
   "metadata": {},
   "outputs": [],
   "source": [
    "_, thres=cv.threshold(img_gris,127,255,cv.THRESH_BINARY)\n",
    "cv.imshow(\"Foot\",img_gris)\n",
    "cv.imshow(\"Test_Seuil\",thres)\n",
    "cv.waitKey(0)\n",
    "cv.destroyAllWindows()"
   ]
  },
  {
   "cell_type": "markdown",
   "id": "b57ef732",
   "metadata": {},
   "source": [
    "## Partition de l'image en 4"
   ]
  },
  {
   "cell_type": "code",
   "execution_count": 6,
   "id": "68abc8cc",
   "metadata": {},
   "outputs": [],
   "source": [
    "def split_image(img):\n",
    "    h,l=img.shape\n",
    "    if (h>1 and l>1):\n",
    "        img_0=img[:h//2,:l//2]\n",
    "        img_1=img[:h//2,l//2:]\n",
    "        img_2=img[h//2:,:l//2]\n",
    "        img_3=img[h//2:,l//2:]\n",
    "        return True,img_0,img_1,img_2,img_3\n",
    "    else:\n",
    "        return False,None,None,None,None"
   ]
  },
  {
   "cell_type": "code",
   "execution_count": 7,
   "id": "34384ee5",
   "metadata": {},
   "outputs": [],
   "source": [
    "CST_BLANC=255\n",
    "CST_NOIR=0\n",
    "def Homogeneite(img):\n",
    "    moyenne=np.mean(img)\n",
    "    return (moyenne==CST_BLANC or moyenne==CST_NOIR),moyenne"
   ]
  },
  {
   "cell_type": "code",
   "execution_count": 8,
   "id": "589196b1",
   "metadata": {},
   "outputs": [],
   "source": [
    "class Node:\n",
    "    num=0\n",
    "    def __init__(self,x0,y0,x1,y1):\n",
    "        self.x0=x0\n",
    "        self.x1=x1\n",
    "        self.y0=y0\n",
    "        self.y1=y1\n",
    "        self.is_leaf= False\n",
    "        self.color = None\n",
    "        self.subnode = [None,None,None,None]\n",
    "        self.name = self.getName()\n",
    "    \n",
    "    def getName(self):\n",
    "        Node.num += 1\n",
    "        return \"<\" + str(Node.num) + \">\"\n",
    "    \n",
    "    def contains(self,x,y):\n",
    "        return (x>=self.x0 and x<=self.x1) and (y>=self.y0 and y<=self.y1)\n",
    "    \n",
    "    def get_taille(self):\n",
    "        return (self.x1-self.x0),(self.y1-self.y0)\n",
    "    \n",
    "    def display(self,d):  # utilisation de la libraire graphviz pour avoir un joli affichage\n",
    "            \n",
    "        info = \";\".join([str(self.x0),str(self.y0),str(self.x1),str(self.y1)])\n",
    "        if self.is_leaf:\n",
    "            d.node(self.name,\"[\"+str(self.color)+\"]\"+\"\\n\" + info + \"\\n\")\n",
    "        else:\n",
    "            d.node(self.name,\"X\\n\" + info + \"\\n\", color=\"red\")\n",
    "            for s in self.subnode:\n",
    "                if s:\n",
    "                    s.display(d)\n",
    "                    d.edge(self.name,s.name,s.name)"
   ]
  },
  {
   "cell_type": "code",
   "execution_count": 9,
   "id": "14306925",
   "metadata": {},
   "outputs": [],
   "source": [
    "class DecisionTree:\n",
    "    maxProf=0\n",
    "    def __init__(self,img,max_split=30):\n",
    "        self.split=0\n",
    "        self.max_split=max_split\n",
    "        self.tree=None\n",
    "        self.img=img\n",
    "        self.nbiter=0\n",
    "        Node.num=0\n",
    "        \n",
    "    def segmentation_recursif(self,img,x=0,y=0):\n",
    "        \"\"\"Pas appelée directement\"\"\"\n",
    "        \n",
    "        node=None\n",
    "        \n",
    "        if self.split<self.max_split:\n",
    "            h,l=img.shape\n",
    "            node = Node(x,y,x+l,y+h)\n",
    "        \n",
    "            node.is_leaf,node.color  = Homogeneite(img) # On appelle la fonction défini plus pour faire notre split\n",
    "            \n",
    "            if not node.is_leaf:\n",
    "                valide,img_a,img_b,img_c,img_d=split_image(img)\n",
    "                if valide:\n",
    "                    self.split+=1  \n",
    "                    if self.split > DecisionTree.maxProf:\n",
    "                        DecisionTree.maxProf = self.split\n",
    "                    node.subnode[0]=self.segmentation_recursif(img_a,x,y)\n",
    "                    node.subnode[1]=self.segmentation_recursif(img_b,x+l//2,y)\n",
    "                    node.subnode[2]=self.segmentation_recursif(img_c,x,y+h//2)\n",
    "                    node.subnode[3]=self.segmentation_recursif(img_d,x+l//2,y+h//2)\n",
    "                    self.split-=1              \n",
    "        \n",
    "        return node\n",
    "    \n",
    "    def segmentation(self):\n",
    "        \n",
    "        self.tree=self.segmentation_recursif(self.img) \n",
    "        \n",
    "        return self.tree\n",
    "    \n",
    "    def getleaf(self,x,y,node):\n",
    "        self.nbiter+=1\n",
    "        if node:\n",
    "            if node.is_leaf:\n",
    "                return node\n",
    "            else:\n",
    "                for s in node.subnode:\n",
    "                    if s.contains(x,y):\n",
    "                        return self.getleaf(x,y,s)\n",
    "\n",
    "        return node\n",
    "\n",
    "    \n",
    "    def predict(self,x,y):\n",
    "        self.nbiter=0\n",
    "        return self.getleaf(x,y,self.tree)\n",
    "    \n",
    "    def displayF(self,x,y):\n",
    "        p=self.predict(x,y)\n",
    "        if p:\n",
    "            print(\"Node:\" + str(p.name) + \",recur=\" + str(self.nbiter) + \" val[\"+str(x)+\",\"+str(y)+\"] = \"+str(p.color)+\"   rectangle= (\"+ str(p.x0)+\" ; \"+str(p.y0)+\" );( \"+str(p.x1)+\" ; \"+str(p.y1)+\" ) \")\n",
    "        else:\n",
    "            print(\"Hors zone\")\n",
    "            \n",
    "            \n",
    "    def reconstruction_node(self,img,node,taillemin):\n",
    "        if node:\n",
    "            if not node.is_leaf:\n",
    "                tx,ty=node.get_taille()\n",
    "                if (tx>taillemin) and (ty>taillemin):\n",
    "                    cv.rectangle(img,(node.x0,node.y0),(node.x1,node.y1),(0,0,255),1)\n",
    "                    for s in node.subnode:\n",
    "                        self.reconstruction_node(img,s,taillemin)\n",
    "                    \n",
    "    def reconstruction_rec(self,img,taillemin=30):\n",
    "        reconstruction=img.copy()\n",
    "        self.reconstruction_node(reconstruction,self.tree,taillemin)\n",
    "        return reconstruction\n",
    "    \n",
    "    def sauvegarde_image_rec(self,img,label,filename,taillemin=10):\n",
    "        nouvelle_img=self.reconstruction_rec(img,taillemin)\n",
    "        cv.imshow(label,nouvelle_img)\n",
    "        cv.imwrite(filename,nouvelle_img)\n",
    "        k=cv.waitKey(0)\n",
    "        cv.destroyAllWindows()\n",
    "        "
   ]
  },
  {
   "cell_type": "markdown",
   "id": "38cf6374",
   "metadata": {},
   "source": [
    "## Création de l'arbre"
   ]
  },
  {
   "cell_type": "code",
   "execution_count": 10,
   "id": "9ffe5691",
   "metadata": {},
   "outputs": [
    {
     "name": "stdout",
     "output_type": "stream",
     "text": [
      "Profondeur max:8\n"
     ]
    }
   ],
   "source": [
    "Arbre=DecisionTree(thres,max_split=100)\n",
    "Racine=Arbre.segmentation()\n",
    "print(\"Profondeur max:\" + str(DecisionTree.maxProf))"
   ]
  },
  {
   "cell_type": "markdown",
   "id": "5b31d7b2",
   "metadata": {},
   "source": [
    "## Affichage de l'arbre avec graphviz"
   ]
  },
  {
   "cell_type": "code",
   "execution_count": 11,
   "id": "19fb5e1a",
   "metadata": {},
   "outputs": [
    {
     "name": "stderr",
     "output_type": "stream",
     "text": [
      "dot: graph is too large for cairo-renderer bitmaps. Scaling by 0.356853 to fit\r\n"
     ]
    },
    {
     "data": {
      "text/plain": [
       "'Digraph.gv.png'"
      ]
     },
     "execution_count": 11,
     "metadata": {},
     "output_type": "execute_result"
    }
   ],
   "source": [
    "d = graphviz.Digraph(format='png')\n",
    "Racine.display(d)\n",
    "d.render()"
   ]
  },
  {
   "cell_type": "markdown",
   "id": "45f37fc6",
   "metadata": {},
   "source": [
    "## Recherche d'un point dans l'arbre"
   ]
  },
  {
   "cell_type": "code",
   "execution_count": 12,
   "id": "8e4dd0b7",
   "metadata": {},
   "outputs": [
    {
     "name": "stdout",
     "output_type": "stream",
     "text": [
      "Node:<6>,recur=4 val[12,55] = 255.0   rectangle= (0 ; 45 );( 34 ; 68 ) \n",
      "Node:<95>,recur=4 val[102,55] = 255.0   rectangle= (68 ; 45 );( 102 ; 68 ) \n",
      "Node:<1>,recur=1 val[12,515] = 245.9350223546945   rectangle= (0 ; 0 );( 275 ; 183 ) \n"
     ]
    }
   ],
   "source": [
    "Arbre.displayF(12,55)\n",
    "Arbre.displayF(102,55)\n",
    "Arbre.displayF(12,515)"
   ]
  },
  {
   "cell_type": "markdown",
   "id": "b92f1e88",
   "metadata": {},
   "source": [
    "## Reconstruction de l'image"
   ]
  },
  {
   "cell_type": "code",
   "execution_count": 13,
   "id": "2d325b94",
   "metadata": {},
   "outputs": [],
   "source": [
    "nouvelle_img=Arbre.reconstruction_rec(img_gris,taillemin=20)\n",
    "cv.imshow(\"Exemple\",nouvelle_img)\n",
    "k=cv.waitKey(0)\n",
    "cv.destroyAllWindows()"
   ]
  },
  {
   "cell_type": "markdown",
   "id": "71945682",
   "metadata": {},
   "source": [
    "## Sauvegarde de l'image (reconstruction + affichage + sauvegarde)"
   ]
  },
  {
   "cell_type": "code",
   "execution_count": 14,
   "id": "e476fb34",
   "metadata": {},
   "outputs": [],
   "source": [
    "Arbre.sauvegarde_image_rec(img_gris,\"Foot_gris_20\",\"C:/Users/pypar/Documents/M1 MMAA/Semestre 8/ProjetDeRecherche/Image/Foot_gris_20.png\",taillemin=20)\n",
    "Arbre.sauvegarde_image_rec(img_color,\"Foot_color_20\",\"C:/Users/pypar/Documents/M1 MMAA/Semestre 8/ProjetDeRecherche/Image/Foot_color_20.png\",taillemin=20)\n",
    "Arbre.sauvegarde_image_rec(img_color,\"Foot_color_4\",\"C:/Users/pypar/Documents/M1 MMAA/Semestre 8/ProjetDeRecherche/Image/Foot_color_4.png\",taillemin=4)"
   ]
  }
 ],
 "metadata": {
  "kernelspec": {
   "display_name": "Python 3 (ipykernel)",
   "language": "python",
   "name": "python3"
  },
  "language_info": {
   "codemirror_mode": {
    "name": "ipython",
    "version": 3
   },
   "file_extension": ".py",
   "mimetype": "text/x-python",
   "name": "python",
   "nbconvert_exporter": "python",
   "pygments_lexer": "ipython3",
   "version": "3.9.12"
  }
 },
 "nbformat": 4,
 "nbformat_minor": 5
}
